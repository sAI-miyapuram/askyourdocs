{
 "cells": [
  {
   "cell_type": "code",
   "id": "initial_id",
   "metadata": {
    "collapsed": true,
    "ExecuteTime": {
     "end_time": "2025-08-03T22:06:11.454494Z",
     "start_time": "2025-08-03T22:05:54.577206Z"
    }
   },
   "source": [
    "import warnings\n",
    "warnings.filterwarnings(\"ignore\")\n",
    "\n",
    "from app.extractor import load_and_split\n",
    "from app.embedder import embeddings\n",
    "from app.llm_generator import get_llm\n",
    "from langchain_community.vectorstores import FAISS\n",
    "from langchain.chains import RetrievalQA\n",
    "\n",
    "# Step 1: Load and split sample PDF\n",
    "chunks = load_and_split(\"../data/sample_docs/sample.pdf\")\n",
    "print(f\"Loaded {len(chunks)} chunks\")\n",
    "\n",
    "# Step 2: Build FAISS index from embedded chunks\n",
    "vector_store = FAISS.from_documents(chunks, embedding=embeddings)\n",
    "\n",
    "# Step 3: Create retriever and QA chain\n",
    "retriever = vector_store.as_retriever()\n",
    "llm = get_llm()\n",
    "\n",
    "qa_chain = RetrievalQA.from_chain_type(llm=llm, retriever=retriever)\n",
    "\n",
    "# Step 4: Ask a question\n",
    "query = \"What is the document about?\"\n",
    "\n",
    "questions = [\n",
    "    \"Who coined the term Artificial Intelligence?\",\n",
    "    \"What major event marked the beginning of AI?\",\n",
    "    \"How has AI evolved over the decades?\",\n",
    "    \"What are AI winters?\",\n",
    "    \"What modern tools use AI today?\"\n",
    "]\n",
    "\n",
    "for q in questions:\n",
    "    print(f\"\\n🔍 Question: {q}\")\n",
    "    print(\"🧠 Answer:\", qa_chain.run(q))\n",
    "\n",
    "\n"
   ],
   "outputs": [
    {
     "name": "stdout",
     "output_type": "stream",
     "text": [
      "Loaded 1 chunks\n",
      "\n",
      "🔍 Question: Who coined the term Artificial Intelligence?\n",
      "🧠 Answer: According to the context, John McCarthy coined the term \"Artificial Intelligence\" in 1956 during the Dartmouth Conference.\n",
      "\n",
      "🔍 Question: What major event marked the beginning of AI?\n",
      "🧠 Answer: According to the text, the Dartmouth Conference in 1956 is widely considered the birth of AI as a field of research. This was also the year when John McCarthy coined the term \"Artificial Intelligence\".\n",
      "\n",
      "🔍 Question: How has AI evolved over the decades?\n",
      "🧠 Answer: According to the provided context, AI has evolved significantly since its inception in the 1950s. Initially inspired by the human brain's capabilities, early researchers sought to create machines that could perform tasks such as playing chess or solving algebraic equations. Over time, AI experienced multiple waves of hype and setbacks, often referred to as \"AI winters.\" However, with the advent of deep learning, availability of large datasets, and high-performance computing, AI systems today power a wide range of applications, including recommendation engines, autonomous vehicles, medical diagnosis tools, and large language models like ChatGPT.\n",
      "\n",
      "🔍 Question: What are AI winters?\n",
      "🧠 Answer: According to the context, \"AI winters\" refers to the periods of hype and setbacks that Artificial Intelligence has experienced over the decades.\n",
      "\n",
      "🔍 Question: What modern tools use AI today?\n",
      "🧠 Answer: According to the text, some modern tools that use AI today include:\n",
      "\n",
      "* Recommendation engines\n",
      "* Autonomous vehicles\n",
      "* Medical diagnosis tools\n",
      "* Large language models like ChatGPT\n"
     ]
    }
   ],
   "execution_count": 8
  }
 ],
 "metadata": {
  "kernelspec": {
   "display_name": "Python 3",
   "language": "python",
   "name": "python3"
  },
  "language_info": {
   "codemirror_mode": {
    "name": "ipython",
    "version": 2
   },
   "file_extension": ".py",
   "mimetype": "text/x-python",
   "name": "python",
   "nbconvert_exporter": "python",
   "pygments_lexer": "ipython2",
   "version": "2.7.6"
  }
 },
 "nbformat": 4,
 "nbformat_minor": 5
}
