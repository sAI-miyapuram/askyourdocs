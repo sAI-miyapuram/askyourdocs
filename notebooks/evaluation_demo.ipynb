{
 "cells": [
  {
   "cell_type": "code",
   "id": "initial_id",
   "metadata": {
    "collapsed": true,
    "ExecuteTime": {
     "end_time": "2025-08-03T22:19:50.955337Z",
     "start_time": "2025-08-03T22:19:50.908973Z"
    }
   },
   "source": [
    "# Evaluation Demo\n",
    "# Demonstrates static scoring and retrieval preview from saved FAISS index\n",
    "\n",
    "from app.evaluator import evaluate_response\n",
    "from app.embedder import embeddings\n",
    "from langchain_community.vectorstores import FAISS\n",
    "\n",
    "# Step 1: Evaluate static Q&A\n",
    "query = \"What is the document about?\"\n",
    "answer = \"The document is about the history of Artificial Intelligence.\"\n",
    "evaluation = evaluate_response(query, answer)\n",
    "print(\"Evaluation Result:\\n\", evaluation)\n",
    "\n",
    "# Step 2: Load saved FAISS index and preview retrieved chunks\n",
    "vector_store = FAISS.load_local(\"faiss_index\", embeddings, allow_dangerous_deserialization=True)\n",
    "retriever = vector_store.as_retriever()\n",
    "docs = retriever.get_relevant_documents(query)\n",
    "\n",
    "print(\"\\n Top-k Retrieved Chunks:\")\n",
    "for i, doc in enumerate(docs):\n",
    "    print(f\"\\nChunk {i+1}:\\n{doc.page_content[:300]}...\\n\")\n"
   ],
   "outputs": [
    {
     "name": "stdout",
     "output_type": "stream",
     "text": [
      "Evaluation Result:\n",
      " {'relevance_score': 'high', 'factuality_score': 'moderate', 'comments': 'This is a static evaluation stub. Integrate TruLens or Giskard for production-quality scoring.'}\n"
     ]
    },
    {
     "ename": "RuntimeError",
     "evalue": "Error in __cdecl faiss::FileIOReader::FileIOReader(const char *) at D:\\a\\faiss-wheels\\faiss-wheels\\faiss\\faiss\\impl\\io.cpp:68: Error: 'f' failed: could not open faiss_index\\index.faiss for reading: No such file or directory",
     "output_type": "error",
     "traceback": [
      "\u001B[1;31m---------------------------------------------------------------------------\u001B[0m",
      "\u001B[1;31mRuntimeError\u001B[0m                              Traceback (most recent call last)",
      "\u001B[1;32m~\\AppData\\Local\\Temp\\ipykernel_20768\\1645837498.py\u001B[0m in \u001B[0;36m?\u001B[1;34m()\u001B[0m\n\u001B[0;32m     11\u001B[0m \u001B[0mevaluation\u001B[0m \u001B[1;33m=\u001B[0m \u001B[0mevaluate_response\u001B[0m\u001B[1;33m(\u001B[0m\u001B[0mquery\u001B[0m\u001B[1;33m,\u001B[0m \u001B[0manswer\u001B[0m\u001B[1;33m)\u001B[0m\u001B[1;33m\u001B[0m\u001B[1;33m\u001B[0m\u001B[0m\n\u001B[0;32m     12\u001B[0m \u001B[0mprint\u001B[0m\u001B[1;33m(\u001B[0m\u001B[1;34m\"Evaluation Result:\\n\"\u001B[0m\u001B[1;33m,\u001B[0m \u001B[0mevaluation\u001B[0m\u001B[1;33m)\u001B[0m\u001B[1;33m\u001B[0m\u001B[1;33m\u001B[0m\u001B[0m\n\u001B[0;32m     13\u001B[0m \u001B[1;33m\u001B[0m\u001B[0m\n\u001B[0;32m     14\u001B[0m \u001B[1;31m# Step 2: Load saved FAISS index and preview retrieved chunks\u001B[0m\u001B[1;33m\u001B[0m\u001B[1;33m\u001B[0m\u001B[0m\n\u001B[1;32m---> 15\u001B[1;33m \u001B[0mvector_store\u001B[0m \u001B[1;33m=\u001B[0m \u001B[0mFAISS\u001B[0m\u001B[1;33m.\u001B[0m\u001B[0mload_local\u001B[0m\u001B[1;33m(\u001B[0m\u001B[1;34m\"faiss_index\"\u001B[0m\u001B[1;33m,\u001B[0m \u001B[0membeddings\u001B[0m\u001B[1;33m,\u001B[0m \u001B[0mallow_dangerous_deserialization\u001B[0m\u001B[1;33m=\u001B[0m\u001B[1;32mTrue\u001B[0m\u001B[1;33m)\u001B[0m\u001B[1;33m\u001B[0m\u001B[1;33m\u001B[0m\u001B[0m\n\u001B[0m\u001B[0;32m     16\u001B[0m \u001B[0mretriever\u001B[0m \u001B[1;33m=\u001B[0m \u001B[0mvector_store\u001B[0m\u001B[1;33m.\u001B[0m\u001B[0mas_retriever\u001B[0m\u001B[1;33m(\u001B[0m\u001B[1;33m)\u001B[0m\u001B[1;33m\u001B[0m\u001B[1;33m\u001B[0m\u001B[0m\n\u001B[0;32m     17\u001B[0m \u001B[0mdocs\u001B[0m \u001B[1;33m=\u001B[0m \u001B[0mretriever\u001B[0m\u001B[1;33m.\u001B[0m\u001B[0mget_relevant_documents\u001B[0m\u001B[1;33m(\u001B[0m\u001B[0mquery\u001B[0m\u001B[1;33m)\u001B[0m\u001B[1;33m\u001B[0m\u001B[1;33m\u001B[0m\u001B[0m\n\u001B[0;32m     18\u001B[0m \u001B[1;33m\u001B[0m\u001B[0m\n",
      "\u001B[1;32m~\\PycharmProjects\\agentic-llm-fine-tuning\\.venv\\lib\\site-packages\\langchain_community\\vectorstores\\faiss.py\u001B[0m in \u001B[0;36m?\u001B[1;34m(cls, folder_path, embeddings, index_name, allow_dangerous_deserialization, **kwargs)\u001B[0m\n\u001B[0;32m   1201\u001B[0m             )\n\u001B[0;32m   1202\u001B[0m         \u001B[0mpath\u001B[0m \u001B[1;33m=\u001B[0m \u001B[0mPath\u001B[0m\u001B[1;33m(\u001B[0m\u001B[0mfolder_path\u001B[0m\u001B[1;33m)\u001B[0m\u001B[1;33m\u001B[0m\u001B[1;33m\u001B[0m\u001B[0m\n\u001B[0;32m   1203\u001B[0m         \u001B[1;31m# load index separately since it is not picklable\u001B[0m\u001B[1;33m\u001B[0m\u001B[1;33m\u001B[0m\u001B[0m\n\u001B[0;32m   1204\u001B[0m         \u001B[0mfaiss\u001B[0m \u001B[1;33m=\u001B[0m \u001B[0mdependable_faiss_import\u001B[0m\u001B[1;33m(\u001B[0m\u001B[1;33m)\u001B[0m\u001B[1;33m\u001B[0m\u001B[1;33m\u001B[0m\u001B[0m\n\u001B[1;32m-> 1205\u001B[1;33m         \u001B[0mindex\u001B[0m \u001B[1;33m=\u001B[0m \u001B[0mfaiss\u001B[0m\u001B[1;33m.\u001B[0m\u001B[0mread_index\u001B[0m\u001B[1;33m(\u001B[0m\u001B[0mstr\u001B[0m\u001B[1;33m(\u001B[0m\u001B[0mpath\u001B[0m \u001B[1;33m/\u001B[0m \u001B[1;34mf\"{index_name}.faiss\"\u001B[0m\u001B[1;33m)\u001B[0m\u001B[1;33m)\u001B[0m\u001B[1;33m\u001B[0m\u001B[1;33m\u001B[0m\u001B[0m\n\u001B[0m\u001B[0;32m   1206\u001B[0m \u001B[1;33m\u001B[0m\u001B[0m\n\u001B[0;32m   1207\u001B[0m         \u001B[1;31m# load docstore and index_to_docstore_id\u001B[0m\u001B[1;33m\u001B[0m\u001B[1;33m\u001B[0m\u001B[0m\n\u001B[0;32m   1208\u001B[0m         \u001B[1;32mwith\u001B[0m \u001B[0mopen\u001B[0m\u001B[1;33m(\u001B[0m\u001B[0mpath\u001B[0m \u001B[1;33m/\u001B[0m \u001B[1;34mf\"{index_name}.pkl\"\u001B[0m\u001B[1;33m,\u001B[0m \u001B[1;34m\"rb\"\u001B[0m\u001B[1;33m)\u001B[0m \u001B[1;32mas\u001B[0m \u001B[0mf\u001B[0m\u001B[1;33m:\u001B[0m\u001B[1;33m\u001B[0m\u001B[1;33m\u001B[0m\u001B[0m\n",
      "\u001B[1;32m~\\PycharmProjects\\agentic-llm-fine-tuning\\.venv\\lib\\site-packages\\faiss\\swigfaiss_avx2.py\u001B[0m in \u001B[0;36m?\u001B[1;34m(*args)\u001B[0m\n\u001B[0;32m  11140\u001B[0m \u001B[1;32mdef\u001B[0m \u001B[0mread_index\u001B[0m\u001B[1;33m(\u001B[0m\u001B[1;33m*\u001B[0m\u001B[0margs\u001B[0m\u001B[1;33m)\u001B[0m\u001B[1;33m:\u001B[0m\u001B[1;33m\u001B[0m\u001B[1;33m\u001B[0m\u001B[0m\n\u001B[1;32m> 11141\u001B[1;33m     \u001B[1;32mreturn\u001B[0m \u001B[0m_swigfaiss_avx2\u001B[0m\u001B[1;33m.\u001B[0m\u001B[0mread_index\u001B[0m\u001B[1;33m(\u001B[0m\u001B[1;33m*\u001B[0m\u001B[0margs\u001B[0m\u001B[1;33m)\u001B[0m\u001B[1;33m\u001B[0m\u001B[1;33m\u001B[0m\u001B[0m\n\u001B[0m",
      "\u001B[1;31mRuntimeError\u001B[0m: Error in __cdecl faiss::FileIOReader::FileIOReader(const char *) at D:\\a\\faiss-wheels\\faiss-wheels\\faiss\\faiss\\impl\\io.cpp:68: Error: 'f' failed: could not open faiss_index\\index.faiss for reading: No such file or directory"
     ]
    }
   ],
   "execution_count": 2
  }
 ],
 "metadata": {
  "kernelspec": {
   "display_name": "Python 3",
   "language": "python",
   "name": "python3"
  },
  "language_info": {
   "codemirror_mode": {
    "name": "ipython",
    "version": 2
   },
   "file_extension": ".py",
   "mimetype": "text/x-python",
   "name": "python",
   "nbconvert_exporter": "python",
   "pygments_lexer": "ipython2",
   "version": "2.7.6"
  }
 },
 "nbformat": 4,
 "nbformat_minor": 5
}
