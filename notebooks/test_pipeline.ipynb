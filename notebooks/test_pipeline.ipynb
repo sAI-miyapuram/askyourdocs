{
 "cells": [
  {
   "cell_type": "code",
   "id": "initial_id",
   "metadata": {
    "collapsed": true,
    "ExecuteTime": {
     "end_time": "2025-08-05T03:44:59.341792Z",
     "start_time": "2025-08-05T03:44:59.310541Z"
    }
   },
   "source": [
    "# Test Pipeline Notebook\n",
    "# This notebook runs a complete RAG pipeline on your ingested documents.\n"
   ],
   "outputs": [],
   "execution_count": 2
  },
  {
   "metadata": {
    "ExecuteTime": {
     "end_time": "2025-08-05T04:33:09.210880Z",
     "start_time": "2025-08-05T04:33:09.207506Z"
    }
   },
   "cell_type": "code",
   "source": [
    "import warnings\n",
    "warnings.filterwarnings(\"ignore\")\n"
   ],
   "id": "6f36443256e3d60",
   "outputs": [],
   "execution_count": 12
  },
  {
   "metadata": {
    "ExecuteTime": {
     "end_time": "2025-08-05T04:33:10.719472Z",
     "start_time": "2025-08-05T04:33:10.687705Z"
    }
   },
   "cell_type": "code",
   "source": [
    "# Load PDF, Chunk & Build FAISS Index\n",
    "from app.extractor import load_and_split\n",
    "from app.embedder import embeddings\n",
    "from langchain_community.vectorstores import FAISS\n",
    "import os\n",
    "\n",
    "# Load a sample PDF\n",
    "pdf_path = \"../data/sample_docs/ai_intro.pdf\"\n",
    "chunks = load_and_split(pdf_path)\n",
    "print(f\"Loaded {len(chunks)} chunks\")\n",
    "\n",
    "# Build the FAISS index\n",
    "vector_store = FAISS.from_documents(chunks, embedding=embeddings)\n",
    "\n",
    "# Save the index\n",
    "vector_store.save_local(\"../faiss_index\")\n"
   ],
   "id": "d634c90ddac658c",
   "outputs": [
    {
     "name": "stdout",
     "output_type": "stream",
     "text": [
      "Loaded 1 chunks\n"
     ]
    }
   ],
   "execution_count": 13
  },
  {
   "metadata": {
    "ExecuteTime": {
     "end_time": "2025-08-05T04:33:21.550951Z",
     "start_time": "2025-08-05T04:33:13.084859Z"
    }
   },
   "cell_type": "code",
   "source": [
    " # Run a Sample Query with LLM\n",
    " from app.llm_generator import get_llm\n",
    "from langchain.chains import RetrievalQA\n",
    "\n",
    "retriever = vector_store.as_retriever()\n",
    "llm = get_llm()\n",
    "qa = RetrievalQA.from_chain_type(llm=llm, retriever=retriever)\n",
    "\n",
    "# Ask a test question\n",
    "query = \"Who coined the term Artificial Intelligence?\"\n",
    "answer = qa.run(query)\n",
    "\n",
    "print(\"Question:\", query)\n",
    "print(\"\\nAnswer:\", answer)\n"
   ],
   "id": "478c8aa92292ef45",
   "outputs": [
    {
     "name": "stdout",
     "output_type": "stream",
     "text": [
      "Question: Who coined the term Artificial Intelligence?\n",
      "\n",
      "Answer: According to the provided context, John McCarthy coined the term \"Artificial Intelligence\" in 1956 at the Dartmouth Conference.\n"
     ]
    }
   ],
   "execution_count": 14
  },
  {
   "metadata": {
    "ExecuteTime": {
     "end_time": "2025-08-05T04:33:24.852667Z",
     "start_time": "2025-08-05T04:33:24.837224Z"
    }
   },
   "cell_type": "code",
   "source": [
    "#Evaluate Answers\n",
    "\n",
    "from app.evaluator import evaluate_response\n",
    "\n",
    "# Evaluate the output\n",
    "evaluation = evaluate_response(query, answer)\n",
    "print(\"Evaluation Result:\\n\", evaluation)\n"
   ],
   "id": "bfc5a17d6cbaad25",
   "outputs": [
    {
     "name": "stdout",
     "output_type": "stream",
     "text": [
      "Evaluation Result:\n",
      " {'relevance_score': 'high', 'factuality_score': 'moderate', 'comments': 'This is a static evaluation stub. Integrate TruLens or Giskard for production-quality scoring.'}\n"
     ]
    }
   ],
   "execution_count": 15
  },
  {
   "metadata": {},
   "cell_type": "code",
   "outputs": [],
   "execution_count": null,
   "source": "",
   "id": "dfcba7a270a9ace2"
  }
 ],
 "metadata": {
  "kernelspec": {
   "display_name": "Python 3",
   "language": "python",
   "name": "python3"
  },
  "language_info": {
   "codemirror_mode": {
    "name": "ipython",
    "version": 2
   },
   "file_extension": ".py",
   "mimetype": "text/x-python",
   "name": "python",
   "nbconvert_exporter": "python",
   "pygments_lexer": "ipython2",
   "version": "2.7.6"
  }
 },
 "nbformat": 4,
 "nbformat_minor": 5
}
